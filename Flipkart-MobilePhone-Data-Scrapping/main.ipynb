{
 "cells": [
  {
   "cell_type": "code",
   "execution_count": 1,
   "id": "f870fdf9",
   "metadata": {},
   "outputs": [],
   "source": [
    "import requests\n",
    "from bs4 import BeautifulSoup\n",
    "import pandas as pd\n",
    "import csv"
   ]
  },
  {
   "cell_type": "code",
   "execution_count": 2,
   "id": "5464717a",
   "metadata": {},
   "outputs": [],
   "source": [
    "url = \"https://www.flipkart.com/search?q=sumsung%20%20latest%20smartphone&otracker=search&otracker1=search&marketplace=FLIPKART&as-show=on&as=off\"\n",
    "r = requests.get(url)\n",
    "content = BeautifulSoup(r.content,'html.parser')"
   ]
  },
  {
   "cell_type": "code",
   "execution_count": 3,
   "id": "653ece52",
   "metadata": {},
   "outputs": [],
   "source": [
    "phn_name=[]\n",
    "phn_price=[]\n",
    "discount = []\n",
    "phn_rating = []\n",
    "\n",
    "name = content.find_all('div',{\"class\":\"_4rR01T\"})\n",
    "price = content.find_all('div',{\"class\":\"_30jeq3 _1_WHN1\"})\n",
    "off = content.find_all('div',{\"class\":\"_3Ay6Sb\"})\n",
    "rating = content.find_all('div',{\"class\":\"_3LWZlK\"})\n",
    "\n",
    "for i in name:\n",
    "    phn_name.append(i.text)\n",
    "for i in price:\n",
    "    phn_price.append(i.text)\n",
    "for i in range(24):\n",
    "    discount.append(off[i].text)\n",
    "for i in range(24):\n",
    "    phn_rating.append(rating[i].text)"
   ]
  },
  {
   "cell_type": "code",
   "execution_count": 4,
   "id": "44e5f69d",
   "metadata": {},
   "outputs": [],
   "source": [
    "data = {\"phone_Name\": phn_name, \"Price\": phn_price, \"offer\": discount, \"Phone_Rating\":phn_rating}\n",
    "df = pd.DataFrame(data)"
   ]
  },
  {
   "cell_type": "code",
   "execution_count": 5,
   "id": "9ac45097",
   "metadata": {},
   "outputs": [
    {
     "name": "stdout",
     "output_type": "stream",
     "text": [
      "                                    phone_Name    Price    offer Phone_Rating\n",
      "0         SAMSUNG Galaxy F12 (Sky Blue, 64 GB)   ₹9,499  26% off          4.3\n",
      "1  SAMSUNG Galaxy F12 (Celestial Black, 64 GB)   ₹9,499  26% off          4.3\n",
      "2        SAMSUNG Galaxy F12 (Sea Green, 64 GB)   ₹9,499  26% off          4.3\n",
      "3      SAMSUNG Galaxy F22 (Denim Blue, 128 GB)  ₹14,999  11% off          4.3\n",
      "4            SAMSUNG Galaxy M12 (Black, 64 GB)  ₹10,584  17% off          4.2\n"
     ]
    }
   ],
   "source": [
    "print(df.head())"
   ]
  },
  {
   "cell_type": "code",
   "execution_count": 6,
   "id": "2d5997d9",
   "metadata": {},
   "outputs": [],
   "source": [
    "df.to_csv('PhoneDetails.csv')"
   ]
  }
 ],
 "metadata": {
  "kernelspec": {
   "display_name": "Python 3 (ipykernel)",
   "language": "python",
   "name": "python3"
  },
  "language_info": {
   "codemirror_mode": {
    "name": "ipython",
    "version": 3
   },
   "file_extension": ".py",
   "mimetype": "text/x-python",
   "name": "python",
   "nbconvert_exporter": "python",
   "pygments_lexer": "ipython3",
   "version": "3.9.7"
  }
 },
 "nbformat": 4,
 "nbformat_minor": 5
}
